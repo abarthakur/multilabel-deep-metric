{
 "cells": [
  {
   "cell_type": "code",
   "execution_count": 1,
   "metadata": {
    "ExecuteTime": {
     "end_time": "2020-04-15T12:54:26.953226Z",
     "start_time": "2020-04-15T12:54:26.951172Z"
    }
   },
   "outputs": [],
   "source": [
    "import sys\n",
    "sys.path.append(\"..\")"
   ]
  },
  {
   "cell_type": "code",
   "execution_count": 2,
   "metadata": {
    "ExecuteTime": {
     "end_time": "2020-04-15T12:54:27.965378Z",
     "start_time": "2020-04-15T12:54:26.956863Z"
    }
   },
   "outputs": [],
   "source": [
    "import utils\n",
    "import mydatasets\n",
    "import os\n",
    "import numpy as np\n",
    "import torch\n",
    "import mymodels\n",
    "from sklearn.manifold import TSNE\n",
    "import ipywidgets as widgets\n",
    "from ipywidgets import interact,fixed,interact_manual\n",
    "%matplotlib inline\n",
    "import matplotlib\n",
    "import matplotlib.pyplot as plt\n",
    "from sklearn.neighbors import NearestNeighbors\n",
    "import pandas as pd\n",
    "from sklearn import metrics as skmet"
   ]
  },
  {
   "cell_type": "code",
   "execution_count": 3,
   "metadata": {
    "ExecuteTime": {
     "end_time": "2020-04-15T12:54:27.969122Z",
     "start_time": "2020-04-15T12:54:27.966767Z"
    }
   },
   "outputs": [],
   "source": [
    "DATASET=\"bibtex\"\n",
    "SPLIT=0"
   ]
  },
  {
   "cell_type": "code",
   "execution_count": 4,
   "metadata": {
    "ExecuteTime": {
     "end_time": "2020-04-15T12:54:28.798854Z",
     "start_time": "2020-04-15T12:54:27.971019Z"
    },
    "scrolled": true
   },
   "outputs": [
    {
     "name": "stdout",
     "output_type": "stream",
     "text": [
      "Loading datasets\n",
      "../data/Bibtex/Bibtex_data.txt\n",
      "../data/Bibtex/bibtex_trSplit.txt\n",
      "../data/Bibtex/bibtex_tstSplit.txt\n",
      "Number of splits : 10\n",
      "## HEADER ##\n",
      "#Point : 7395 , #Features : 1836 , #Labels : 159\n"
     ]
    }
   ],
   "source": [
    "# change dirs because paths are hardcoded in mydatasets\n",
    "curr_dir=os.getcwd()\n",
    "os.chdir(\"..\")\n",
    "if DATASET in [\"mediamill\",\"delicious\",\"bibtex\"]:\n",
    "    full_dataset,trn_splits,tst_splits=mydatasets.load_small_dataset(DATASET)\n",
    "    trn_data,tst_data=mydatasets.get_small_dataset_split(full_dataset,trn_splits,tst_splits,SPLIT)\n",
    "elif DATASET in [\"eurlex\"]:\n",
    "    trn_data,tst_data=mydatasets.load_large_dataset(DATASET)\n",
    "x_mat,y_mat,x_tst,y_tst=mydatasets.get_arrays(trn_data,tst_data)\n",
    "# change back\n",
    "os.chdir(curr_dir)"
   ]
  },
  {
   "cell_type": "code",
   "execution_count": 5,
   "metadata": {
    "ExecuteTime": {
     "end_time": "2020-04-15T12:54:28.804042Z",
     "start_time": "2020-04-15T12:54:28.801046Z"
    }
   },
   "outputs": [],
   "source": [
    "load_model_dir=\"../runs/bibtex_40/\"\n",
    "model_num=160\n",
    "val_file_name=\"../runs/bibtex_datadict.p\""
   ]
  },
  {
   "cell_type": "code",
   "execution_count": 6,
   "metadata": {
    "ExecuteTime": {
     "end_time": "2020-04-15T12:54:28.859640Z",
     "start_time": "2020-04-15T12:54:28.806126Z"
    }
   },
   "outputs": [],
   "source": [
    "x_trn,y_trn,x_val,y_val=mydatasets.get_validation_split(x_mat,y_mat,val_file_name,None)"
   ]
  },
  {
   "cell_type": "code",
   "execution_count": 7,
   "metadata": {
    "ExecuteTime": {
     "end_time": "2020-04-15T12:54:28.883490Z",
     "start_time": "2020-04-15T12:54:28.861343Z"
    }
   },
   "outputs": [],
   "source": [
    "model=torch.load(load_model_dir+\"model_\"+str(model_num))"
   ]
  },
  {
   "cell_type": "code",
   "execution_count": 8,
   "metadata": {
    "ExecuteTime": {
     "end_time": "2020-04-15T12:54:29.030318Z",
     "start_time": "2020-04-15T12:54:28.886620Z"
    }
   },
   "outputs": [],
   "source": [
    "emb_trn=model(torch.from_numpy(x_trn.astype('float32'))).detach().numpy()\n",
    "emb_val=model(torch.from_numpy(x_val.astype('float32'))).detach().numpy()"
   ]
  },
  {
   "cell_type": "markdown",
   "metadata": {},
   "source": [
    "### Simple neighbour model"
   ]
  },
  {
   "cell_type": "code",
   "execution_count": 9,
   "metadata": {
    "ExecuteTime": {
     "end_time": "2020-04-15T12:55:01.018561Z",
     "start_time": "2020-04-15T12:54:46.329075Z"
    }
   },
   "outputs": [],
   "source": [
    "metrics_df=pd.DataFrame()\n",
    "for num_neighbours in [5,10,15,20,50,100,150]:\n",
    "    nbrs = NearestNeighbors(n_neighbors=num_neighbours, algorithm='ball_tree').fit(emb_trn)\n",
    "    trn_metrics=utils.compute_mlr_metrics(nbrs,num_neighbours,y_trn,emb_trn,y_trn,\"\")\n",
    "    trn_metrics[\"trn/val\"]=\"trn\"\n",
    "    trn_metrics[\"num_nbr\"]=num_neighbours\n",
    "    metrics_df=metrics_df.append(trn_metrics)\n",
    "    val_metrics=utils.compute_mlr_metrics(nbrs,num_neighbours,y_trn,emb_val,y_val,\"\")\n",
    "    val_metrics[\"trn/val\"]=\"val\"\n",
    "    val_metrics[\"num_nbr\"]=num_neighbours\n",
    "    metrics_df=metrics_df.append(val_metrics)"
   ]
  },
  {
   "cell_type": "markdown",
   "metadata": {},
   "source": [
    "### Distance weighted neighbour model"
   ]
  },
  {
   "cell_type": "code",
   "execution_count": 10,
   "metadata": {
    "ExecuteTime": {
     "end_time": "2020-04-15T12:55:01.027403Z",
     "start_time": "2020-04-15T12:55:01.020346Z"
    }
   },
   "outputs": [],
   "source": [
    "def weighted_mlr_metrics(nbrs,num_neighbours,y_trn,emb_tst,y_tst,prefix):\n",
    "    nbr_distances, nbr_indices = nbrs.kneighbors(emb_tst)\n",
    "    weights=np.exp(-nbr_distances)\n",
    "    y_nbr_weighted=y_trn[nbr_indices,:]*weights.reshape(-1,num_neighbours,1)\n",
    "    assert(y_nbr_weighted.shape==(emb_tst.shape[0],num_neighbours,y_tst.shape[1]))\n",
    "    y_pred=np.mean(y_nbr_weighted,axis=1)\n",
    "    metrics_df=pd.DataFrame(index=[0])\n",
    "    metrics_df.loc[0,prefix+\"p@1\"]=utils.precision_at_k(y_tst,y_pred,1)\n",
    "    metrics_df.loc[0,prefix+\"p@3\"]=utils.precision_at_k(y_tst,y_pred,3)\n",
    "    metrics_df.loc[0,prefix+\"p@5\"]=utils.precision_at_k(y_tst,y_pred,5)\n",
    "    metrics_df.loc[0,prefix+\"ranking_loss\"]=skmet.label_ranking_loss(y_tst,y_pred)\n",
    "    metrics_df.loc[0,prefix+\"coverage_error\"]=skmet.coverage_error(y_tst,y_pred)\n",
    "    metrics_df.loc[0,prefix+\"avg_prec_score\"]=skmet.label_ranking_average_precision_score(y_tst,y_pred)\n",
    "    return metrics_df"
   ]
  },
  {
   "cell_type": "code",
   "execution_count": 11,
   "metadata": {
    "ExecuteTime": {
     "end_time": "2020-04-15T12:55:18.197465Z",
     "start_time": "2020-04-15T12:55:01.029626Z"
    }
   },
   "outputs": [],
   "source": [
    "wmetrics_df=pd.DataFrame()\n",
    "for num_neighbours in [5,10,15,20,50,100,150]:\n",
    "    nbrs = NearestNeighbors(n_neighbors=num_neighbours, algorithm='ball_tree').fit(emb_trn)\n",
    "    trn_metrics=weighted_mlr_metrics(nbrs,num_neighbours,y_trn,emb_trn,y_trn,\"\")\n",
    "    trn_metrics[\"trn/val\"]=\"trn\"\n",
    "    trn_metrics[\"num_nbr\"]=num_neighbours\n",
    "    wmetrics_df=wmetrics_df.append(trn_metrics)\n",
    "    val_metrics=weighted_mlr_metrics(nbrs,num_neighbours,y_trn,emb_val,y_val,\"\")\n",
    "    val_metrics[\"trn/val\"]=\"val\"\n",
    "    val_metrics[\"num_nbr\"]=num_neighbours\n",
    "    wmetrics_df=wmetrics_df.append(val_metrics)"
   ]
  },
  {
   "cell_type": "code",
   "execution_count": 12,
   "metadata": {
    "ExecuteTime": {
     "end_time": "2020-04-15T12:55:18.224893Z",
     "start_time": "2020-04-15T12:55:18.198915Z"
    }
   },
   "outputs": [
    {
     "data": {
      "text/html": [
       "<div>\n",
       "<style scoped>\n",
       "    .dataframe tbody tr th:only-of-type {\n",
       "        vertical-align: middle;\n",
       "    }\n",
       "\n",
       "    .dataframe tbody tr th {\n",
       "        vertical-align: top;\n",
       "    }\n",
       "\n",
       "    .dataframe thead th {\n",
       "        text-align: right;\n",
       "    }\n",
       "</style>\n",
       "<table border=\"1\" class=\"dataframe\">\n",
       "  <thead>\n",
       "    <tr style=\"text-align: right;\">\n",
       "      <th></th>\n",
       "      <th>p@1</th>\n",
       "      <th>p@3</th>\n",
       "      <th>p@5</th>\n",
       "      <th>ranking_loss</th>\n",
       "      <th>coverage_error</th>\n",
       "      <th>avg_prec_score</th>\n",
       "      <th>trn/val</th>\n",
       "      <th>num_nbr</th>\n",
       "    </tr>\n",
       "  </thead>\n",
       "  <tbody>\n",
       "    <tr>\n",
       "      <th>0</th>\n",
       "      <td>0.506148</td>\n",
       "      <td>0.331967</td>\n",
       "      <td>0.238934</td>\n",
       "      <td>0.333764</td>\n",
       "      <td>82.616803</td>\n",
       "      <td>0.429254</td>\n",
       "      <td>val</td>\n",
       "      <td>5</td>\n",
       "    </tr>\n",
       "    <tr>\n",
       "      <th>0</th>\n",
       "      <td>0.526639</td>\n",
       "      <td>0.338798</td>\n",
       "      <td>0.250820</td>\n",
       "      <td>0.275829</td>\n",
       "      <td>72.040984</td>\n",
       "      <td>0.464776</td>\n",
       "      <td>val</td>\n",
       "      <td>10</td>\n",
       "    </tr>\n",
       "    <tr>\n",
       "      <th>0</th>\n",
       "      <td>0.526639</td>\n",
       "      <td>0.344262</td>\n",
       "      <td>0.249590</td>\n",
       "      <td>0.243644</td>\n",
       "      <td>64.975410</td>\n",
       "      <td>0.477141</td>\n",
       "      <td>val</td>\n",
       "      <td>15</td>\n",
       "    </tr>\n",
       "    <tr>\n",
       "      <th>0</th>\n",
       "      <td>0.536885</td>\n",
       "      <td>0.343579</td>\n",
       "      <td>0.254098</td>\n",
       "      <td>0.217999</td>\n",
       "      <td>58.944672</td>\n",
       "      <td>0.485629</td>\n",
       "      <td>val</td>\n",
       "      <td>20</td>\n",
       "    </tr>\n",
       "    <tr>\n",
       "      <th>0</th>\n",
       "      <td>0.549180</td>\n",
       "      <td>0.338115</td>\n",
       "      <td>0.251639</td>\n",
       "      <td>0.140740</td>\n",
       "      <td>39.571721</td>\n",
       "      <td>0.501189</td>\n",
       "      <td>val</td>\n",
       "      <td>50</td>\n",
       "    </tr>\n",
       "    <tr>\n",
       "      <th>0</th>\n",
       "      <td>0.534836</td>\n",
       "      <td>0.336749</td>\n",
       "      <td>0.247131</td>\n",
       "      <td>0.113617</td>\n",
       "      <td>31.674180</td>\n",
       "      <td>0.495317</td>\n",
       "      <td>val</td>\n",
       "      <td>100</td>\n",
       "    </tr>\n",
       "    <tr>\n",
       "      <th>0</th>\n",
       "      <td>0.500000</td>\n",
       "      <td>0.325137</td>\n",
       "      <td>0.244672</td>\n",
       "      <td>0.102957</td>\n",
       "      <td>28.784836</td>\n",
       "      <td>0.478201</td>\n",
       "      <td>val</td>\n",
       "      <td>150</td>\n",
       "    </tr>\n",
       "  </tbody>\n",
       "</table>\n",
       "</div>"
      ],
      "text/plain": [
       "        p@1       p@3       p@5  ranking_loss  coverage_error  avg_prec_score  \\\n",
       "0  0.506148  0.331967  0.238934      0.333764       82.616803        0.429254   \n",
       "0  0.526639  0.338798  0.250820      0.275829       72.040984        0.464776   \n",
       "0  0.526639  0.344262  0.249590      0.243644       64.975410        0.477141   \n",
       "0  0.536885  0.343579  0.254098      0.217999       58.944672        0.485629   \n",
       "0  0.549180  0.338115  0.251639      0.140740       39.571721        0.501189   \n",
       "0  0.534836  0.336749  0.247131      0.113617       31.674180        0.495317   \n",
       "0  0.500000  0.325137  0.244672      0.102957       28.784836        0.478201   \n",
       "\n",
       "  trn/val  num_nbr  \n",
       "0     val        5  \n",
       "0     val       10  \n",
       "0     val       15  \n",
       "0     val       20  \n",
       "0     val       50  \n",
       "0     val      100  \n",
       "0     val      150  "
      ]
     },
     "metadata": {},
     "output_type": "display_data"
    },
    {
     "data": {
      "text/html": [
       "<div>\n",
       "<style scoped>\n",
       "    .dataframe tbody tr th:only-of-type {\n",
       "        vertical-align: middle;\n",
       "    }\n",
       "\n",
       "    .dataframe tbody tr th {\n",
       "        vertical-align: top;\n",
       "    }\n",
       "\n",
       "    .dataframe thead th {\n",
       "        text-align: right;\n",
       "    }\n",
       "</style>\n",
       "<table border=\"1\" class=\"dataframe\">\n",
       "  <thead>\n",
       "    <tr style=\"text-align: right;\">\n",
       "      <th></th>\n",
       "      <th>p@1</th>\n",
       "      <th>p@3</th>\n",
       "      <th>p@5</th>\n",
       "      <th>ranking_loss</th>\n",
       "      <th>coverage_error</th>\n",
       "      <th>avg_prec_score</th>\n",
       "      <th>trn/val</th>\n",
       "      <th>num_nbr</th>\n",
       "    </tr>\n",
       "  </thead>\n",
       "  <tbody>\n",
       "    <tr>\n",
       "      <th>0</th>\n",
       "      <td>0.508197</td>\n",
       "      <td>0.331967</td>\n",
       "      <td>0.239754</td>\n",
       "      <td>0.328794</td>\n",
       "      <td>81.942623</td>\n",
       "      <td>0.444755</td>\n",
       "      <td>val</td>\n",
       "      <td>5</td>\n",
       "    </tr>\n",
       "    <tr>\n",
       "      <th>0</th>\n",
       "      <td>0.528689</td>\n",
       "      <td>0.340164</td>\n",
       "      <td>0.250000</td>\n",
       "      <td>0.269791</td>\n",
       "      <td>71.102459</td>\n",
       "      <td>0.482935</td>\n",
       "      <td>val</td>\n",
       "      <td>10</td>\n",
       "    </tr>\n",
       "    <tr>\n",
       "      <th>0</th>\n",
       "      <td>0.530738</td>\n",
       "      <td>0.347678</td>\n",
       "      <td>0.248770</td>\n",
       "      <td>0.236934</td>\n",
       "      <td>63.854508</td>\n",
       "      <td>0.491434</td>\n",
       "      <td>val</td>\n",
       "      <td>15</td>\n",
       "    </tr>\n",
       "    <tr>\n",
       "      <th>0</th>\n",
       "      <td>0.543033</td>\n",
       "      <td>0.343579</td>\n",
       "      <td>0.250820</td>\n",
       "      <td>0.210423</td>\n",
       "      <td>57.584016</td>\n",
       "      <td>0.499000</td>\n",
       "      <td>val</td>\n",
       "      <td>20</td>\n",
       "    </tr>\n",
       "    <tr>\n",
       "      <th>0</th>\n",
       "      <td>0.553279</td>\n",
       "      <td>0.339481</td>\n",
       "      <td>0.252459</td>\n",
       "      <td>0.130939</td>\n",
       "      <td>37.495902</td>\n",
       "      <td>0.511364</td>\n",
       "      <td>val</td>\n",
       "      <td>50</td>\n",
       "    </tr>\n",
       "    <tr>\n",
       "      <th>0</th>\n",
       "      <td>0.534836</td>\n",
       "      <td>0.337432</td>\n",
       "      <td>0.245902</td>\n",
       "      <td>0.105031</td>\n",
       "      <td>29.717213</td>\n",
       "      <td>0.499905</td>\n",
       "      <td>val</td>\n",
       "      <td>100</td>\n",
       "    </tr>\n",
       "    <tr>\n",
       "      <th>0</th>\n",
       "      <td>0.508197</td>\n",
       "      <td>0.325820</td>\n",
       "      <td>0.244672</td>\n",
       "      <td>0.095503</td>\n",
       "      <td>26.997951</td>\n",
       "      <td>0.485763</td>\n",
       "      <td>val</td>\n",
       "      <td>150</td>\n",
       "    </tr>\n",
       "  </tbody>\n",
       "</table>\n",
       "</div>"
      ],
      "text/plain": [
       "        p@1       p@3       p@5  ranking_loss  coverage_error  avg_prec_score  \\\n",
       "0  0.508197  0.331967  0.239754      0.328794       81.942623        0.444755   \n",
       "0  0.528689  0.340164  0.250000      0.269791       71.102459        0.482935   \n",
       "0  0.530738  0.347678  0.248770      0.236934       63.854508        0.491434   \n",
       "0  0.543033  0.343579  0.250820      0.210423       57.584016        0.499000   \n",
       "0  0.553279  0.339481  0.252459      0.130939       37.495902        0.511364   \n",
       "0  0.534836  0.337432  0.245902      0.105031       29.717213        0.499905   \n",
       "0  0.508197  0.325820  0.244672      0.095503       26.997951        0.485763   \n",
       "\n",
       "  trn/val  num_nbr  \n",
       "0     val        5  \n",
       "0     val       10  \n",
       "0     val       15  \n",
       "0     val       20  \n",
       "0     val       50  \n",
       "0     val      100  \n",
       "0     val      150  "
      ]
     },
     "metadata": {},
     "output_type": "display_data"
    }
   ],
   "source": [
    "display(metrics_df[metrics_df[\"trn/val\"]==\"val\"])\n",
    "display(wmetrics_df[wmetrics_df[\"trn/val\"]==\"val\"])"
   ]
  },
  {
   "cell_type": "markdown",
   "metadata": {},
   "source": [
    "**Clearly a distance weighted scheme is beneficial.** \n",
    "\n",
    "This reflects favourably for the model, that similarity and distances have are correctly related, which is the objective with which the model was trained."
   ]
  }
 ],
 "metadata": {
  "hide_input": false,
  "kernelspec": {
   "display_name": "Python 3",
   "language": "python",
   "name": "python3"
  },
  "language_info": {
   "codemirror_mode": {
    "name": "ipython",
    "version": 3
   },
   "file_extension": ".py",
   "mimetype": "text/x-python",
   "name": "python",
   "nbconvert_exporter": "python",
   "pygments_lexer": "ipython3",
   "version": "3.6.9"
  },
  "toc": {
   "base_numbering": 1,
   "nav_menu": {},
   "number_sections": true,
   "sideBar": true,
   "skip_h1_title": false,
   "title_cell": "Table of Contents",
   "title_sidebar": "Contents",
   "toc_cell": false,
   "toc_position": {},
   "toc_section_display": true,
   "toc_window_display": false
  }
 },
 "nbformat": 4,
 "nbformat_minor": 2
}
